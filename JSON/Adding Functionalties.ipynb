{
 "cells": [
  {
   "cell_type": "code",
   "execution_count": 6,
   "id": "0f4c6fff",
   "metadata": {
    "scrolled": true
   },
   "outputs": [
    {
     "ename": "IndentationError",
     "evalue": "unexpected indent (642194653.py, line 46)",
     "output_type": "error",
     "traceback": [
      "\u001b[1;36m  Cell \u001b[1;32mIn[6], line 46\u001b[1;36m\u001b[0m\n\u001b[1;33m    sale='1'+,'+ui_name+','+ui_mail+','+ui_phone+','+ui_pr+','+record[ui_pr]['Name']+','+str(record[ui_pr]['Qn'])+','+str(record[ui_pr]['Price']* record[ui_pr]['Qn'])+','+time.ctime()\u001b[0m\n\u001b[1;37m    ^\u001b[0m\n\u001b[1;31mIndentationError\u001b[0m\u001b[1;31m:\u001b[0m unexpected indent\n"
     ]
    }
   ],
   "source": [
    "import json\n",
    "import time\n",
    "\n",
    "fd =open('Records.json','r')\n",
    "js=fd.read()\n",
    "fd.close()\n",
    "record=json.loads(js)\n",
    "\n",
    "print('-----------------MENU---------------------------')\n",
    "for key in record:\n",
    "    print(key,':',record[key]['Name'],record[key]['Price'],record[key]['Qn'])\n",
    "print(\"-------------------------------------------------\") \n",
    "\n",
    "ui_name=str(input(\"Enter Your Name:\"))\n",
    "ui_mail=str(input(\"Enter Your Mail ID:\"))\n",
    "ui_phone=str(input(\"Enter Your Phone Number:\"))\n",
    "ui_pr=str(input(\"Enter Product ID:\"))\n",
    "ui_qn=int(input(\"Enter Product Quantity:\"))\n",
    "\n",
    "if(record[ui_pr]['Qn'] >= ui_qn):\n",
    "    \n",
    "    record[ui_pr]['Qn']=record[ui_pr]['Qn'] - (ui_qn)\n",
    "    print(\"---------------BILL-----------------------------------\")\n",
    "    print(\"Product Name       :\",record[ui_pr]['Name'])\n",
    "    print(\"Product Price      :\",record[ui_pr]['Price'],\"Rs\")\n",
    "    print(\"Quantity           :\",ui_qn)\n",
    "    print(\"-------------------------------------------------------\")\n",
    "    print(\"Billing Amount     :\",record[ui_pr]['Price']*ui_qn,\"Rs\")\n",
    "    print(\"-----------------------------------------------------\")\n",
    "    \n",
    "    sale='1'+','+ui_name+','+ui_mail+','+ui_phone+','+ui_pr+','+record[ui_pr]['Name']+','+str(record[ui_pr]['Qn'])+','+str(record[ui_pr]['Price']* ui_qn)+','+time.ctime()\n",
    "\n",
    "else:  \n",
    "    print(\"We're not having Enough Quantity\")\n",
    "    print(\"We're Having Only\",record[ui_pr]['Qn'],'Quantity')\n",
    "    ch=str(input(\"Would You Still Like to Purchase?(Y/y)\"))\n",
    "    if(ch=='Y' or ch=='y'):\n",
    "          print(\"---------------BILL-----------------------------------\")\n",
    "          print(\"Product Name       :\",record[ui_pr]['Name'])\n",
    "          print(\"Product Price      :\",record[ui_pr]['Price'],\"Rs\")\n",
    "          print(\"Quantity           :\",record[ui_pr]['Qn'])\n",
    "          print(\"Billing Amount     :\",record[ui_pr]['Price']*record[ui_pr]['Qn'],\"Rs\")\n",
    "          print(\"-----------------------------------------------------\")\n",
    "          record[ui_pr]['Qn']=0\n",
    "            sale='1'+,'+ui_name+','+ui_mail+','+ui_phone+','+ui_pr+','+record[ui_pr]['Name']+','+str(record[ui_pr]['Qn'])+','+str(record[ui_pr]['Price']* record[ui_pr]['Qn'])+','+time.ctime()\n",
    "    else:\n",
    "          print(\"Thank you!\")\n",
    "js = json.dumps(record)\n",
    "fd=open(\"Records.json\",'w')\n",
    "fd.write(js)\n",
    "fd.close()"
   ]
  },
  {
   "cell_type": "code",
   "execution_count": 36,
   "id": "b6931b79",
   "metadata": {},
   "outputs": [
    {
     "data": {
      "text/plain": [
       "'1,rohan,rohan@gmail.com,8279601296,1003,Candy,180,40,Fri Jun 14 13:07:55 2024'"
      ]
     },
     "execution_count": 36,
     "metadata": {},
     "output_type": "execute_result"
    }
   ],
   "source": [
    "'1'+','+ui_name+','+ui_mail+','+ui_phone+','+ui_pr+','+record[ui_pr]['Name']+','+str(record[ui_pr]['Qn'])+','+str(record[ui_pr]['Price']* ui_qn)+','+time.ctime()"
   ]
  },
  {
   "cell_type": "code",
   "execution_count": null,
   "id": "73217891",
   "metadata": {},
   "outputs": [],
   "source": []
  }
 ],
 "metadata": {
  "kernelspec": {
   "display_name": "Python 3 (ipykernel)",
   "language": "python",
   "name": "python3"
  },
  "language_info": {
   "codemirror_mode": {
    "name": "ipython",
    "version": 3
   },
   "file_extension": ".py",
   "mimetype": "text/x-python",
   "name": "python",
   "nbconvert_exporter": "python",
   "pygments_lexer": "ipython3",
   "version": "3.11.7"
  }
 },
 "nbformat": 4,
 "nbformat_minor": 5
}
