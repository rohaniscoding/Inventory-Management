{
 "cells": [
  {
   "cell_type": "code",
   "execution_count": 41,
   "id": "63ff6df7",
   "metadata": {
    "scrolled": true
   },
   "outputs": [
    {
     "name": "stdout",
     "output_type": "stream",
     "text": [
      "-----------------MENU---------------------------\n",
      "1001 : 5 Star 10 200\n",
      "1002 : Bar One 20 100\n",
      "1003 : Candy 2 1000\n",
      "1004 : Chocolate Cake 550 8\n",
      "1005 : Blueberry Cake 650 5\n",
      "-------------------------------------------------\n",
      "Enter Product ID:1004\n",
      "Enter Product Quantity:4\n",
      "---------------BILL-----------------------------------\n",
      "Product Name       : Chocolate Cake\n",
      "Product Price      : 550 Re\n",
      "User Quantity      : 4\n",
      "Billing Amount     : 2200 Re\n",
      "-----------------------------------------------------\n"
     ]
    }
   ],
   "source": [
    "import json\n",
    "record= {1001: {'Name' : '5 Star'        , 'Price' : 10,  'Qn' : 200},\n",
    "         1002: {'Name' : 'Bar One'       , 'Price' : 20,  'Qn' : 100},\n",
    "         1003: {'Name' : 'Candy'         , 'Price' :  2,  'Qn' : 1000},\n",
    "         1004: {'Name' : 'Chocolate Cake', 'Price' : 550, 'Qn' : 8 },\n",
    "         1005: {'Name' : 'Blueberry Cake', 'Price' : 650, 'Qn' : 5 }}\n",
    "print('-----------------MENU---------------------------')\n",
    "for key in record:\n",
    "    print(key,':',record[key]['Name'],record[key]['Price'],record[key]['Qn'])\n",
    "print(\"-------------------------------------------------\") \n",
    "ui_pr=int(input(\"Enter Product ID:\"))\n",
    "ui_qn=int(input(\"Enter Product Quantity:\"))\n",
    "record[ui_pr]['Qn']=record[ui_pr]['Qn']-ui_qn\n",
    "print(\"---------------BILL-----------------------------------\")\n",
    "print(\"Product Name       :\",record[ui_pr]['Name'])\n",
    "print(\"Product Price      :\",record[ui_pr]['Price'],\"Re\")\n",
    "print(\"User Quantity      :\",ui_qn)\n",
    "print(\"Billing Amount     :\",record[ui_pr]['Price']*ui_qn,\"Re\")\n",
    "print(\"-----------------------------------------------------\")"
   ]
  },
  {
   "cell_type": "code",
   "execution_count": 42,
   "id": "676133be",
   "metadata": {},
   "outputs": [
    {
     "data": {
      "text/plain": [
       "{1001: {'Name': '5 Star', 'Price': 10, 'Qn': 200},\n",
       " 1002: {'Name': 'Bar One', 'Price': 20, 'Qn': 100},\n",
       " 1003: {'Name': 'Candy', 'Price': 2, 'Qn': 1000},\n",
       " 1004: {'Name': 'Chocolate Cake', 'Price': 550, 'Qn': 4},\n",
       " 1005: {'Name': 'Blueberry Cake', 'Price': 650, 'Qn': 5}}"
      ]
     },
     "execution_count": 42,
     "metadata": {},
     "output_type": "execute_result"
    }
   ],
   "source": [
    "record"
   ]
  },
  {
   "cell_type": "code",
   "execution_count": 43,
   "id": "d2637caf",
   "metadata": {},
   "outputs": [],
   "source": [
    "js = json.dumps(record)"
   ]
  },
  {
   "cell_type": "code",
   "execution_count": 44,
   "id": "823b1bb7",
   "metadata": {},
   "outputs": [],
   "source": [
    "fd=open(\"Record.json\",'w')\n",
    "fd.write(js)\n",
    "fd.close()"
   ]
  },
  {
   "cell_type": "code",
   "execution_count": null,
   "id": "03636e8b",
   "metadata": {},
   "outputs": [],
   "source": []
  }
 ],
 "metadata": {
  "kernelspec": {
   "display_name": "Python 3 (ipykernel)",
   "language": "python",
   "name": "python3"
  },
  "language_info": {
   "codemirror_mode": {
    "name": "ipython",
    "version": 3
   },
   "file_extension": ".py",
   "mimetype": "text/x-python",
   "name": "python",
   "nbconvert_exporter": "python",
   "pygments_lexer": "ipython3",
   "version": "3.11.7"
  }
 },
 "nbformat": 4,
 "nbformat_minor": 5
}
