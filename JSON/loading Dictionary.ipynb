{
 "cells": [
  {
   "cell_type": "code",
   "execution_count": null,
   "id": "0f4c6fff",
   "metadata": {
    "scrolled": true
   },
   "outputs": [
    {
     "name": "stdout",
     "output_type": "stream",
     "text": [
      "-----------------MENU---------------------------\n",
      "1001 : 5 Star 10 200\n",
      "1002 : Bar One 20 20\n",
      "1003 : Candy 2 960\n",
      "1004 : Chocolate Cake 550 8\n",
      "1005 : Blueberry Cake 650 5\n",
      "-------------------------------------------------\n"
     ]
    }
   ],
   "source": [
    "import json\n",
    "\n",
    "fd =open('Records.json','r')\n",
    "js=fd.read()\n",
    "fd.close()\n",
    "record=json.loads(js)\n",
    "\n",
    "print('-----------------MENU---------------------------')\n",
    "for key in record:\n",
    "    print(key,':',record[key]['Name'],record[key]['Price'],record[key]['Qn'])\n",
    "print(\"-------------------------------------------------\") \n",
    "ui_pr=str(input(\"Enter Product ID:\"))\n",
    "ui_qn=int(input(\"Enter Product Quantity:\"))\n",
    "record[ui_pr]['Qn']=record[ui_pr]['Qn'] - (ui_qn)\n",
    "print(\"---------------BILL-----------------------------------\")\n",
    "print(\"Product Name       :\",record[ui_pr]['Name'])\n",
    "print(\"Product Price      :\",record[ui_pr]['Price'],\"Rs\")\n",
    "print(\"User Quantity      :\",ui_qn)\n",
    "print(\"Billing Amount     :\",record[ui_pr]['Price']*ui_qn,\"Rs\")\n",
    "print(\"-----------------------------------------------------\")\n",
    "js = json.dumps(record)\n",
    "fd=open(\"Records.json\",'w')\n",
    "fd.write(js)\n",
    "fd.close()"
   ]
  },
  {
   "cell_type": "code",
   "execution_count": 38,
   "id": "3ccbe8de",
   "metadata": {},
   "outputs": [
    {
     "data": {
      "text/plain": [
       "'{\"1001\": {\"Name\": \"5 Star\", \"Price\": 10, \"Qn\": 200}, \"1002\": {\"Name\": \"Bar One\", \"Price\": 20, \"Qn\": 20}, \"1003\": {\"Name\": \"Candy\", \"Price\": 2, \"Qn\": 960}, \"1004\": {\"Name\": \"Chocolate Cake\", \"Price\": 550, \"Qn\": 8}, \"1005\": {\"Name\": \"Blueberry Cake\", \"Price\": 650, \"Qn\": 5}}'"
      ]
     },
     "execution_count": 38,
     "metadata": {},
     "output_type": "execute_result"
    }
   ],
   "source": [
    "js"
   ]
  },
  {
   "cell_type": "code",
   "execution_count": null,
   "id": "221874d0",
   "metadata": {},
   "outputs": [],
   "source": []
  }
 ],
 "metadata": {
  "kernelspec": {
   "display_name": "Python 3 (ipykernel)",
   "language": "python",
   "name": "python3"
  },
  "language_info": {
   "codemirror_mode": {
    "name": "ipython",
    "version": 3
   },
   "file_extension": ".py",
   "mimetype": "text/x-python",
   "name": "python",
   "nbconvert_exporter": "python",
   "pygments_lexer": "ipython3",
   "version": "3.11.7"
  }
 },
 "nbformat": 4,
 "nbformat_minor": 5
}
